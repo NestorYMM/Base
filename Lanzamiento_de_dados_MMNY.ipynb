{
  "nbformat": 4,
  "nbformat_minor": 0,
  "metadata": {
    "colab": {
      "provenance": []
    },
    "kernelspec": {
      "name": "python3",
      "display_name": "Python 3"
    },
    "language_info": {
      "name": "python"
    }
  },
  "cells": [
    {
      "cell_type": "markdown",
      "source": [
        "# Lanzamiento de dos dados"
      ],
      "metadata": {
        "id": "Zc9c6fpH7tOx"
      }
    },
    {
      "cell_type": "markdown",
      "source": [
        "## Diccionarios:\n",
        "\n",
        "$$\\{\\text{key}:\\text{values}\\}.$$"
      ],
      "metadata": {
        "id": "oGwp3O6m76DD"
      }
    },
    {
      "cell_type": "code",
      "execution_count": 33,
      "metadata": {
        "id": "bAXTxjQXsLZp"
      },
      "outputs": [],
      "source": [
        "d = {\"César\": [\"Masha\", \"Mila\", \"Sneg\"],\n",
        "     \"Julio\": [3, 10, 12],\n",
        "     \"Gal\": [7.0, 5.0, 6.0]}"
      ]
    },
    {
      "cell_type": "code",
      "source": [
        "type(d)"
      ],
      "metadata": {
        "colab": {
          "base_uri": "https://localhost:8080/"
        },
        "id": "1U0xkzVA9jC1",
        "outputId": "2238a935-d835-4ab8-a3d7-faf92cbcac4e"
      },
      "execution_count": 34,
      "outputs": [
        {
          "output_type": "execute_result",
          "data": {
            "text/plain": [
              "dict"
            ]
          },
          "metadata": {},
          "execution_count": 34
        }
      ]
    },
    {
      "cell_type": "code",
      "source": [
        "d.keys() # Son las llaves de un diccionario"
      ],
      "metadata": {
        "colab": {
          "base_uri": "https://localhost:8080/"
        },
        "id": "CswA0Ax-9vBS",
        "outputId": "6c0aeea2-6181-49a5-98de-5d63fa09d38c"
      },
      "execution_count": 35,
      "outputs": [
        {
          "output_type": "execute_result",
          "data": {
            "text/plain": [
              "dict_keys(['César', 'Julio', 'Gal'])"
            ]
          },
          "metadata": {},
          "execution_count": 35
        }
      ]
    },
    {
      "cell_type": "code",
      "source": [
        "d.values()"
      ],
      "metadata": {
        "colab": {
          "base_uri": "https://localhost:8080/"
        },
        "id": "vqeYQNbG-vHC",
        "outputId": "c2d6d425-7a7d-4162-bdb8-5cb5ca582438"
      },
      "execution_count": 36,
      "outputs": [
        {
          "output_type": "execute_result",
          "data": {
            "text/plain": [
              "dict_values([['Masha', 'Mila', 'Sneg'], [3, 10, 12], [7.0, 5.0, 6.0]])"
            ]
          },
          "metadata": {},
          "execution_count": 36
        }
      ]
    },
    {
      "cell_type": "code",
      "source": [
        "d.items()"
      ],
      "metadata": {
        "colab": {
          "base_uri": "https://localhost:8080/"
        },
        "id": "5UhJcXwg-zoI",
        "outputId": "dc88c658-42da-480f-9436-782df4d1ea7f"
      },
      "execution_count": 37,
      "outputs": [
        {
          "output_type": "execute_result",
          "data": {
            "text/plain": [
              "dict_items([('César', ['Masha', 'Mila', 'Sneg']), ('Julio', [3, 10, 12]), ('Gal', [7.0, 5.0, 6.0])])"
            ]
          },
          "metadata": {},
          "execution_count": 37
        }
      ]
    },
    {
      "cell_type": "markdown",
      "source": [
        "## Se lanzan dos dados justos:\n",
        "\n",
        "- $\\Omega = \\{1,2,3,4,5,6\\}\\times \\{1,2,3,4,5,6 \\}$.\n",
        "- $\\mathcal{F}=p(\\Omega)$.\n",
        "- Para $\\omega=(i,j)$ donde $i, j=1,\\dots, 6$\n",
        "$$\\mathbb{P}(\\{\\omega\\})=\\frac{1}{36}.$$\n",
        "\n",
        "-----\n",
        "\n",
        "## Vamos a definir a la siguiente variable aleatoria:\n",
        "$S$ es la variable aleatoria que cuenta la suma de las caras de los dados.\n",
        "\n",
        "$$S:\\Omega \\to R_{S}=\\{2, 3, 4, 5, 6, 7, 8, 9, 10, 11, 12 \\}$$"
      ],
      "metadata": {
        "id": "0pEgDmSl_zEw"
      }
    },
    {
      "cell_type": "markdown",
      "source": [
        "Para entender a la ley de la variable aleatoria, basta con entender a los siguientes datos:\n",
        "$$\\{(k, \\mathbb{P}(S=k)) \\}_{k\\in R_{S}}.$$"
      ],
      "metadata": {
        "id": "pR4lIByoCm4X"
      }
    },
    {
      "cell_type": "markdown",
      "source": [
        "Veamos a $S$ como eventos. Sea $S_{n}$ el evento la suma de las caras es $n$."
      ],
      "metadata": {
        "id": "LV_YVSpYDo5x"
      }
    },
    {
      "cell_type": "code",
      "source": [
        "from itertools import product\n",
        "from fractions import Fraction"
      ],
      "metadata": {
        "id": "3D7SUivV_XGG"
      },
      "execution_count": 38,
      "outputs": []
    },
    {
      "cell_type": "code",
      "source": [
        "def P(A, Omega):\n",
        "  P = Fraction(len(A), len(Omega) )\n",
        "  return P"
      ],
      "metadata": {
        "id": "NMZ4hgiKEIu0"
      },
      "execution_count": 39,
      "outputs": []
    },
    {
      "cell_type": "markdown",
      "source": [
        "$$S_{n}=\\{(i,j)\\in \\Omega : i+j =n \\}$$"
      ],
      "metadata": {
        "id": "c97Faj-dEfvz"
      }
    },
    {
      "cell_type": "code",
      "source": [
        "S_2 = {(i,j) for i in range(1,7) for j in range(1,7) if i+j == 2 }\n",
        "S_2"
      ],
      "metadata": {
        "colab": {
          "base_uri": "https://localhost:8080/"
        },
        "id": "xdKgALyfEdBJ",
        "outputId": "c13da847-f611-4cc4-cf3d-37b859927ae5"
      },
      "execution_count": 40,
      "outputs": [
        {
          "output_type": "execute_result",
          "data": {
            "text/plain": [
              "{(1, 1)}"
            ]
          },
          "metadata": {},
          "execution_count": 40
        }
      ]
    },
    {
      "cell_type": "code",
      "source": [
        "L = [i for i in range(1,7)]\n",
        "\n",
        "Omega = set(product(L, repeat =2 ))\n",
        "Omega"
      ],
      "metadata": {
        "colab": {
          "base_uri": "https://localhost:8080/"
        },
        "id": "WiGgELw9FrJy",
        "outputId": "cd11f188-3213-44a4-f07f-ff49d32236d2"
      },
      "execution_count": 41,
      "outputs": [
        {
          "output_type": "execute_result",
          "data": {
            "text/plain": [
              "{(1, 1),\n",
              " (1, 2),\n",
              " (1, 3),\n",
              " (1, 4),\n",
              " (1, 5),\n",
              " (1, 6),\n",
              " (2, 1),\n",
              " (2, 2),\n",
              " (2, 3),\n",
              " (2, 4),\n",
              " (2, 5),\n",
              " (2, 6),\n",
              " (3, 1),\n",
              " (3, 2),\n",
              " (3, 3),\n",
              " (3, 4),\n",
              " (3, 5),\n",
              " (3, 6),\n",
              " (4, 1),\n",
              " (4, 2),\n",
              " (4, 3),\n",
              " (4, 4),\n",
              " (4, 5),\n",
              " (4, 6),\n",
              " (5, 1),\n",
              " (5, 2),\n",
              " (5, 3),\n",
              " (5, 4),\n",
              " (5, 5),\n",
              " (5, 6),\n",
              " (6, 1),\n",
              " (6, 2),\n",
              " (6, 3),\n",
              " (6, 4),\n",
              " (6, 5),\n",
              " (6, 6)}"
            ]
          },
          "metadata": {},
          "execution_count": 41
        }
      ]
    },
    {
      "cell_type": "code",
      "source": [
        "S = {(i,j): i+j for i,j in Omega}\n",
        "\n",
        "S"
      ],
      "metadata": {
        "colab": {
          "base_uri": "https://localhost:8080/"
        },
        "id": "i0vdEmDRFZG5",
        "outputId": "f8f49c05-5f27-4add-bf19-290b80decca6"
      },
      "execution_count": 42,
      "outputs": [
        {
          "output_type": "execute_result",
          "data": {
            "text/plain": [
              "{(3, 4): 7,\n",
              " (4, 3): 7,\n",
              " (3, 1): 4,\n",
              " (5, 4): 9,\n",
              " (4, 6): 10,\n",
              " (5, 1): 6,\n",
              " (2, 2): 4,\n",
              " (1, 6): 7,\n",
              " (2, 5): 7,\n",
              " (1, 3): 4,\n",
              " (6, 2): 8,\n",
              " (6, 5): 11,\n",
              " (4, 2): 6,\n",
              " (4, 5): 9,\n",
              " (3, 3): 6,\n",
              " (5, 6): 11,\n",
              " (3, 6): 9,\n",
              " (5, 3): 8,\n",
              " (2, 4): 6,\n",
              " (1, 2): 3,\n",
              " (2, 1): 3,\n",
              " (1, 5): 6,\n",
              " (6, 1): 7,\n",
              " (6, 4): 10,\n",
              " (3, 2): 5,\n",
              " (4, 1): 5,\n",
              " (3, 5): 8,\n",
              " (5, 2): 7,\n",
              " (4, 4): 8,\n",
              " (5, 5): 10,\n",
              " (1, 1): 2,\n",
              " (1, 4): 5,\n",
              " (2, 3): 5,\n",
              " (2, 6): 8,\n",
              " (6, 6): 12,\n",
              " (6, 3): 9}"
            ]
          },
          "metadata": {},
          "execution_count": 42
        }
      ]
    },
    {
      "cell_type": "code",
      "source": [
        "from collections import defaultdict\n",
        "\n",
        "dS = defaultdict(set)\n",
        "dS"
      ],
      "metadata": {
        "colab": {
          "base_uri": "https://localhost:8080/"
        },
        "id": "tCdZjkJ4GbQK",
        "outputId": "029a69f2-4e83-49fa-ea0f-0f1207513a03"
      },
      "execution_count": 43,
      "outputs": [
        {
          "output_type": "execute_result",
          "data": {
            "text/plain": [
              "defaultdict(set, {})"
            ]
          },
          "metadata": {},
          "execution_count": 43
        }
      ]
    },
    {
      "cell_type": "code",
      "source": [
        "for l, v in S.items():\n",
        "  dS[v].add(l)"
      ],
      "metadata": {
        "id": "0wQQasi-HYLf"
      },
      "execution_count": 44,
      "outputs": []
    },
    {
      "cell_type": "code",
      "source": [
        "dS"
      ],
      "metadata": {
        "colab": {
          "base_uri": "https://localhost:8080/"
        },
        "id": "LzTW-QyBHt-d",
        "outputId": "df7c35c9-c6c6-425d-a7b8-60d76b922e21"
      },
      "execution_count": 45,
      "outputs": [
        {
          "output_type": "execute_result",
          "data": {
            "text/plain": [
              "defaultdict(set,\n",
              "            {7: {(1, 6), (2, 5), (3, 4), (4, 3), (5, 2), (6, 1)},\n",
              "             4: {(1, 3), (2, 2), (3, 1)},\n",
              "             9: {(3, 6), (4, 5), (5, 4), (6, 3)},\n",
              "             10: {(4, 6), (5, 5), (6, 4)},\n",
              "             6: {(1, 5), (2, 4), (3, 3), (4, 2), (5, 1)},\n",
              "             8: {(2, 6), (3, 5), (4, 4), (5, 3), (6, 2)},\n",
              "             11: {(5, 6), (6, 5)},\n",
              "             3: {(1, 2), (2, 1)},\n",
              "             5: {(1, 4), (2, 3), (3, 2), (4, 1)},\n",
              "             2: {(1, 1)},\n",
              "             12: {(6, 6)}})"
            ]
          },
          "metadata": {},
          "execution_count": 45
        }
      ]
    },
    {
      "cell_type": "code",
      "source": [
        "leyS = {k : P(A,Omega) for k , A in dS.items() }\n",
        "leyS"
      ],
      "metadata": {
        "colab": {
          "base_uri": "https://localhost:8080/"
        },
        "id": "brD5YygqI8wf",
        "outputId": "c3110e82-839c-4ba8-b52b-ddfef5a04039"
      },
      "execution_count": 46,
      "outputs": [
        {
          "output_type": "execute_result",
          "data": {
            "text/plain": [
              "{7: Fraction(1, 6),\n",
              " 4: Fraction(1, 12),\n",
              " 9: Fraction(1, 9),\n",
              " 10: Fraction(1, 12),\n",
              " 6: Fraction(5, 36),\n",
              " 8: Fraction(5, 36),\n",
              " 11: Fraction(1, 18),\n",
              " 3: Fraction(1, 18),\n",
              " 5: Fraction(1, 9),\n",
              " 2: Fraction(1, 36),\n",
              " 12: Fraction(1, 36)}"
            ]
          },
          "metadata": {},
          "execution_count": 46
        }
      ]
    },
    {
      "cell_type": "markdown",
      "source": [
        "## Introducción a pandas."
      ],
      "metadata": {
        "id": "zRJO-SbyJ2x0"
      }
    },
    {
      "cell_type": "code",
      "source": [
        "import pandas as pd"
      ],
      "metadata": {
        "id": "wOjQu9ZlJn09"
      },
      "execution_count": 47,
      "outputs": []
    },
    {
      "cell_type": "code",
      "source": [
        "leyS = pd.Series(leyS)\n",
        "leyS = leyS.sort_index()"
      ],
      "metadata": {
        "id": "VbH7OcRAKLxD"
      },
      "execution_count": 48,
      "outputs": []
    },
    {
      "cell_type": "code",
      "source": [
        "leyS"
      ],
      "metadata": {
        "colab": {
          "base_uri": "https://localhost:8080/"
        },
        "id": "LSep_uSVKps6",
        "outputId": "b9130e52-8975-4d9b-fb68-774cf8b9d294"
      },
      "execution_count": 49,
      "outputs": [
        {
          "output_type": "execute_result",
          "data": {
            "text/plain": [
              "2     1/36\n",
              "3     1/18\n",
              "4     1/12\n",
              "5      1/9\n",
              "6     5/36\n",
              "7      1/6\n",
              "8     5/36\n",
              "9      1/9\n",
              "10    1/12\n",
              "11    1/18\n",
              "12    1/36\n",
              "dtype: object"
            ]
          },
          "metadata": {},
          "execution_count": 49
        }
      ]
    },
    {
      "cell_type": "code",
      "source": [],
      "metadata": {
        "id": "mad5jQ5zK7in"
      },
      "execution_count": 49,
      "outputs": []
    },
    {
      "cell_type": "markdown",
      "source": [
        "### Ejercicios:\n",
        "1.- Documenta tu colab.\n",
        "\n",
        "2.- Calcula la ley de las siguientes variables aleatorias:\n",
        "\n",
        "1.          - La diferencia de las caras sea mayor que $1$.\n",
        "\n",
        "    - La suma de las caras sea par.\n",
        "\n",
        "3.- Verifica, en cada caso, que $$\\sum_{k\\in R_{X}}\\mathbb{P}(X=x)=1.$$\n",
        "\n",
        "4.- Sube tu notebook a tu GitHub.\n",
        "\n",
        "\n"
      ],
      "metadata": {
        "id": "fqIGXqIiPZZM"
      }
    },
    {
      "cell_type": "code",
      "source": [],
      "metadata": {
        "id": "O137dfCFQ4FX"
      },
      "execution_count": 49,
      "outputs": []
    },
    {
      "cell_type": "markdown",
      "source": [
        "# Respuesta a ejercicios"
      ],
      "metadata": {
        "id": "xJdOC-QgwQRf"
      }
    },
    {
      "cell_type": "markdown",
      "source": [
        "## Ejercicio 1\n",
        "\n",
        "$\\textit{La diferencia de las caras sea mayor que  1}$\n",
        "\n",
        "Esta es una variable aleatoria (A la cual llamaremos $X$) binaria, es decir solo puede tomar dos valores, 0  si la diferencia entre las caras de los dos dados es menor o igual que $1$, y y $0$ en caso contrario.\n",
        "\n",
        "Para aclarar las cosas usaremos la siguiente notación:\n",
        "\n",
        "$$\\Omega = \\{1,2,3,4,5,6\\}\\times\\{1,2,3,4,5,6\\}$$\n",
        "\n",
        "Cuyos elementos tienen la siguiente forma:\n",
        "$$(d_{1},d_{2})$$\n",
        "\n",
        "Ahora definimos a la variable aleatoria $X$ de la siguiente forma:,\n",
        "\n",
        "\n",
        "$$\n",
        "X:\\Omega \\longrightarrow \\{0,1\\}\n",
        "$$\n",
        "\n",
        "$$\n",
        "X(\\omega) = X(d_{1},d_{2})\n",
        "\\left\\{\n",
        "  \\begin{array}{lr}\n",
        "  1 & si & |d_{1}-d_{2}|>1\\\\\n",
        "  0 && \\text{En otro caso}\n",
        "  \\end{array}\n",
        "   \\right.\n",
        "$$\n",
        "\n",
        "Por como definimos esta variable aleatoria, es facil ver que el rango de esta es un conjunto con solo dos elementos, es decir:\n",
        "\n",
        "$$R_{X} = \\{0,1\\}$$\n",
        "\n",
        "Por lo que la ley la variable aleatoria $X$ es la siguiente:\n",
        "\n",
        "$$\n",
        "\\{(k,\\mathbb{P}[X=k])\\}_{k\\in R_{X}}\n",
        "= \\{(k,\\mathbb{P}[X=k])\\}_{k\\in \\{0,1\\}}\n",
        "= \\{(0,\\mathbb{P}[X=0]),(1,\\mathbb{P}[X=1])\\}\n",
        "$$\n",
        "\n",
        "Ahora vamos a calculas las probabilidades en los siguientes bloques de código\n"
      ],
      "metadata": {
        "id": "wV3WQUSIwUIC"
      }
    },
    {
      "cell_type": "code",
      "source": [
        "# Creamos evento donde la diferencia entre las caras de los dos dados es mayor a 1\n",
        "A = {(i,j) for i,j in Omega if abs(i-j)>1}\n",
        "# Observamos en que casos la variable es igual a 1\n",
        "print('Casos donde X sea igual a 1: ')\n",
        "print(A)\n",
        "B = {(i,j) for i,j in Omega if abs(i-j)<=1}\n",
        "# Observamos en que casos la variable es igual a 0\n",
        "print('Casos donde X sea igual a 0: ')\n",
        "print(B)\n",
        "print('-'*150)\n",
        "\n",
        "# Usamos la función creada previamente para calcular la probabilidad de X=1\n",
        "P(A,Omega)\n",
        "\n",
        "#Calculamos la probabilidad del complemento\n",
        "1 - P(A,Omega)\n",
        "\n",
        "#Cramos diccionario con la ley de la variable X\n",
        "leyX = {1:P(A,Omega),0:1-P(A,Omega)}\n",
        "leyX\n",
        "\n",
        "#Por presentacion / estetica transformamos esto a una serie con pandas\n",
        "print('Ley de X:')\n",
        "leyX_serie = pd.Series(leyX)\n",
        "leyX_serie = leyX_serie.sort_index()\n",
        "print(leyX_serie)\n",
        "\n",
        "#Ahora comprobamos que la suma de las probabilidades de 1\n",
        "print('-'*150)\n",
        "print('La suma de las probabilidades es igual a: ', leyX_serie.sum())\n"
      ],
      "metadata": {
        "id": "Q-QAS46YxxYj",
        "colab": {
          "base_uri": "https://localhost:8080/"
        },
        "outputId": "3411039f-f760-498f-8173-9177d8f90f1a"
      },
      "execution_count": 63,
      "outputs": [
        {
          "output_type": "stream",
          "name": "stdout",
          "text": [
            "Casos donde X sea igual a 1: \n",
            "{(3, 1), (4, 6), (5, 1), (1, 6), (2, 5), (1, 3), (6, 2), (4, 2), (3, 6), (5, 3), (2, 4), (1, 5), (6, 1), (6, 4), (4, 1), (3, 5), (5, 2), (1, 4), (2, 6), (6, 3)}\n",
            "Casos donde X sea igual a 0: \n",
            "{(4, 4), (1, 2), (5, 5), (3, 4), (6, 5), (4, 3), (2, 1), (5, 4), (1, 1), (2, 3), (4, 5), (3, 3), (5, 6), (2, 2), (6, 6), (3, 2)}\n",
            "------------------------------------------------------------------------------------------------------------------------------------------------------\n",
            "Ley de X:\n",
            "0    4/9\n",
            "1    5/9\n",
            "dtype: object\n",
            "------------------------------------------------------------------------------------------------------------------------------------------------------\n",
            "La suma de las probabilidades es igual a:  1\n"
          ]
        }
      ]
    },
    {
      "cell_type": "markdown",
      "source": [
        "Por lo tanto, la ley de la variable aleatoria $X$ es la siguiente:\n",
        "\n",
        "$$\n",
        "\\{(k,\\mathbb{P}[X=k])\\}_{k\\in R_{X}} =\n",
        "\\left\\{\n",
        "  \\left(0,\\frac{4}{9}\\right),\n",
        "  \\left(1,\\frac{5}{9}\\right)\n",
        "  \\right\\}\n",
        "$$"
      ],
      "metadata": {
        "id": "sQXFs2oSNW7D"
      }
    },
    {
      "cell_type": "markdown",
      "source": [
        "## Ejercicio 2\n",
        " $\\textit{La suma de las caras sea par}$\n",
        "\n",
        " Denotamos a $Y$ como esta variable aleatoria.\n",
        "\n",
        " Usando la misma notación que se usó en el ejercicio anterior, denotamos a la variables aleatoria $Y$ de la siguiente forma:\n",
        "\n",
        "$$\n",
        "Y:\\Omega \\longrightarrow \\{0,1\\}  \\\\\n",
        "Y(\\omega) = Y(d_{1},d_{2}) =\n",
        "\\left\\{\n",
        "  \\begin{array}{lr}\n",
        "  1 & si & d_{1}+d_{2}\\equiv_{2}0 \\\\\n",
        "  0 && \\text{En otro caso}\n",
        "  \\end{array}\n",
        "  \\right.\n",
        "$$\n",
        "\n",
        "Es decir, toma el valor de $1$ si la suma de los valores de los dados es un número par, y $0$ en caso de que la suma sea impar.\n",
        "\n",
        "Tambien podemos ver a partir de como definimos la variable que el rango de esta es el siguiente:\n",
        "\n",
        "$$\n",
        "R_{Y} = \\{0,1\\}\n",
        "$$\n",
        "\n",
        "Por lo que podemos ver a la ley de esta variable aleatoria como la siguiente:\n",
        "$$\n",
        "\\{(k,\\mathbb{P}[Y=k])\\}_{k\\in R_{Y}} =\n",
        "\\{(0,\\mathbb{P}[Y=0]),(1,\\mathbb{P}[Y=1])\\}\n",
        "$$\n",
        "Estas probabilidades las calcularemois en el siguiente bloque de código:"
      ],
      "metadata": {
        "id": "wAqD1zofN_2D"
      }
    },
    {
      "cell_type": "code",
      "source": [
        "# Creamos el evento donde la suma de los valores de los dados sea un numero par\n",
        "A = { (i,j) for i,j in Omega if (i+j)%2 == 0 }\n",
        "B = { (i,j) for i,j in Omega if (i+j)%2 != 0 }\n",
        "print('Casos donde Y = 1')\n",
        "print(A)\n",
        "print('Casos donde Y = 0')\n",
        "print(B)\n",
        "\n",
        "print('-'*150)\n",
        "\n",
        "#Calculamos la probabilidad de Y=1\n",
        "P(A,Omega)\n",
        "\n",
        "#Calculamos la probabilidad de Y=0\n",
        "1 - P(A,Omega)\n",
        "\n",
        "#Creamos diccionario con la ley de Y\n",
        "leyY = {1:P(A,Omega),0:1-P(A,Omega)}\n",
        "leyX\n",
        "\n",
        "#Pasamos este diccionario a una serie de pandas\n",
        "leyY_serie = pd.Series(leyY)\n",
        "leyY_serie = leyY_serie.sort_index()\n",
        "print('Ley de Y:')\n",
        "print(leyY_serie)\n",
        "print('-'*150)\n",
        "\n",
        "#Calculamos que la suma de las probabilidades dea igual a 1\n",
        "print('La suma de las probabilidades es igual a: ', leyY_serie.sum())"
      ],
      "metadata": {
        "id": "dedMee4mSiJw",
        "colab": {
          "base_uri": "https://localhost:8080/"
        },
        "outputId": "aa1dcde7-4b9f-4193-e549-76a541dd1859"
      },
      "execution_count": 61,
      "outputs": [
        {
          "output_type": "stream",
          "name": "stdout",
          "text": [
            "Casos donde Y = 1\n",
            "{(4, 4), (6, 2), (2, 4), (5, 5), (1, 5), (3, 1), (1, 1), (4, 6), (6, 6), (5, 1), (4, 2), (6, 4), (3, 3), (2, 6), (2, 2), (5, 3), (1, 3), (3, 5)}\n",
            "Casos donde Y = 0\n",
            "{(1, 2), (3, 4), (6, 5), (4, 3), (2, 1), (6, 1), (5, 4), (1, 4), (2, 3), (4, 5), (6, 3), (5, 6), (3, 6), (1, 6), (3, 2), (2, 5), (4, 1), (5, 2)}\n",
            "------------------------------------------------------------------------------------------------------------------------------------------------------\n",
            "Ley de Y:\n",
            "0    1/2\n",
            "1    1/2\n",
            "dtype: object\n",
            "------------------------------------------------------------------------------------------------------------------------------------------------------\n",
            "La suma de las probabilidades es igual a:  1\n"
          ]
        }
      ]
    },
    {
      "cell_type": "markdown",
      "source": [
        "Por lo tanto, la ley de $Y$ es el siguiente conjunto:\n",
        "\n",
        "$$\n",
        "\\{(k,\\mathbb{P}[Y=k])\\}_{k\\in R_{Y}} =\n",
        "\\left\\{\n",
        "  \\left(0,\\frac{1}{2}\\right),\n",
        "  \\left(1,\\frac{1}{2}\\right)\n",
        "  \\right\\}\n",
        "$$"
      ],
      "metadata": {
        "id": "rnH6b3nOWZ4t"
      }
    }
  ]
}